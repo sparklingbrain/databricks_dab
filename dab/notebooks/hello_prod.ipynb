{
 "cells": [
  {
   "cell_type": "code",
   "execution_count": null,
   "id": "5857d076",
   "metadata": {},
   "outputs": [],
   "source": [
    "# Sample PySpark code to display a few records from a DataFrame\n",
    "\n",
    "# Assuming SparkSession is already created as 'spark'\n",
    "data = [(\"Alice\", 34), (\"Bob\", 45), (\"Cathy\", 29)]\n",
    "columns = [\"Name\", \"Age\"]\n",
    "\n",
    "df = spark.createDataFrame(data, columns)\n",
    "df.show(5)"
   ]
  },
  {
   "cell_type": "code",
   "execution_count": null,
   "id": "76594301",
   "metadata": {},
   "outputs": [],
   "source": [
    "print(\"This is coming from Production environment\")"
   ]
  }
 ],
 "metadata": {
  "language_info": {
   "name": "python"
  }
 },
 "nbformat": 4,
 "nbformat_minor": 5
}
