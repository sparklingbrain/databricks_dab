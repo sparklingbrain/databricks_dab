{
 "cells": [
  {
   "cell_type": "code",
   "execution_count": null,
   "id": "874b822b",
   "metadata": {},
   "outputs": [],
   "source": [
    "dbutils.widgets.text(\"t1_param\", \"default_value\", \"Notebook Parameter\")\n",
    "notebookpparam = dbutils.widgets.get(\"t1_param\")\n",
    "\n"
   ]
  },
  {
   "cell_type": "code",
   "execution_count": null,
   "id": "7d1c7fdb",
   "metadata": {},
   "outputs": [],
   "source": [
    "\n",
    "print(notebookpparam)\n",
    "\n",
    "update_param = notebookpparam + \" updated_value\"\n"
   ]
  },
  {
   "cell_type": "code",
   "execution_count": null,
   "id": "5857d076",
   "metadata": {},
   "outputs": [],
   "source": [
    "# Sample PySpark code to display a few records from a DataFrame\n",
    "\n",
    "# Assuming SparkSession is already created as 'spark'\n",
    "data = [(\"Alice\", 34), (\"Bob\", 45), (\"Cathy\", 29)]\n",
    "columns = [\"Name\", \"Age\"]\n",
    "\n",
    "df = spark.createDataFrame(data, columns)\n",
    "df.show()"
   ]
  },
  {
   "cell_type": "code",
   "execution_count": null,
   "id": "6822b86e",
   "metadata": {},
   "outputs": [],
   "source": [
    "dbutils.jobs.taskValues.set(\"from_t1\", update_param)"
   ]
  }
 ],
 "metadata": {
  "language_info": {
   "name": "python"
  }
 },
 "nbformat": 4,
 "nbformat_minor": 5
}
