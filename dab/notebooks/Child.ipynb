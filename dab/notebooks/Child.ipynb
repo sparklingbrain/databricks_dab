{
 "cells": [
  {
   "cell_type": "code",
   "execution_count": null,
   "id": "874b822b",
   "metadata": {},
   "outputs": [],
   "source": [
    "dbutils.widgets.text(\"from_parent\", \"default_value\", \"Notebook Parameter\")\n",
    "notebookpparam = dbutils.widgets.get(\"from_parent\")\n",
    "\n",
    "print(\"The value of the notebook parameter is: \" + notebookpparam)\n"
   ]
  }
 ],
 "metadata": {
  "language_info": {
   "name": "python"
  }
 },
 "nbformat": 4,
 "nbformat_minor": 5
}
