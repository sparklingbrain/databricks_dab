{
 "cells": [
  {
   "cell_type": "code",
   "execution_count": null,
   "id": "874b822b",
   "metadata": {},
   "outputs": [],
   "source": [
    "dbutils.widgets.text(\"from_t1\", \"default_value\", \"Notebook Parameter\")\n",
    "notebookpparam = dbutils.widgets.get(\"from_t1\")\n",
    "\n",
    "print(\"The value of the notebook parameter is: \" + notebookpparam)\n"
   ]
  },
  {
   "cell_type": "code",
   "execution_count": null,
   "id": "5857d076",
   "metadata": {},
   "outputs": [],
   "source": [
    "# Sample PySpark code to display a few records from a DataFrame\n",
    "\n",
    "# Assuming SparkSession is already created as 'spark'\n",
    "data = [(\"Alice\", 34), (\"Bob\", 45), (\"Cathy\", 29)]\n",
    "columns = [\"Name\", \"Age\"]\n",
    "\n",
    "df = spark.createDataFrame(data, columns)\n",
    "df.show()"
   ]
  },
  {
   "cell_type": "code",
   "execution_count": null,
   "id": "2580d2d6",
   "metadata": {},
   "outputs": [],
   "source": []
  }
 ],
 "metadata": {
  "language_info": {
   "name": "python"
  }
 },
 "nbformat": 4,
 "nbformat_minor": 5
}
