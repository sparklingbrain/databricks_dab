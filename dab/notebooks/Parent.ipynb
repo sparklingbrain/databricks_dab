{
 "cells": [
  {
   "cell_type": "code",
   "execution_count": null,
   "id": "d8b50e9a",
   "metadata": {},
   "outputs": [],
   "source": [
    "dbutils.widgets.text(\"numcount\", \"5\", \"Number of counts\")\n",
    "numcount = int(dbutils.widgets.get(\"numcount\"))"
   ]
  },
  {
   "cell_type": "code",
   "execution_count": null,
   "id": "874b822b",
   "metadata": {},
   "outputs": [],
   "source": [
    "items = [num for num in range(numcount)]\n",
    "dbutils.jobs.taskValues.set(\"itemlist\", items)\n",
    "\n",
    "\n",
    "print(f\"Items set in task values: {items}\")"
   ]
  },
  {
   "cell_type": "code",
   "execution_count": null,
   "id": "5857d076",
   "metadata": {},
   "outputs": [],
   "source": [
    "dbutils.notebook.exit(\"Items stored successfully\")"
   ]
  },
  {
   "cell_type": "code",
   "execution_count": null,
   "id": "2580d2d6",
   "metadata": {},
   "outputs": [],
   "source": []
  }
 ],
 "metadata": {
  "language_info": {
   "name": "python"
  }
 },
 "nbformat": 4,
 "nbformat_minor": 5
}
